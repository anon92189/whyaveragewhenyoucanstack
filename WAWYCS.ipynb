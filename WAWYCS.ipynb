{
 "cells": [
  {
   "cell_type": "code",
   "execution_count": 38,
   "metadata": {},
   "outputs": [],
   "source": [
    "import numpy as np\n",
    "import scipy.integrate as integrate\n",
    "from scipy.stats import norm"
   ]
  },
  {
   "cell_type": "code",
   "execution_count": 39,
   "metadata": {},
   "outputs": [],
   "source": [
    "def func(x):\n",
    "    return norm(mu,sigma).pdf(x)"
   ]
  },
  {
   "cell_type": "markdown",
   "metadata": {},
   "source": [
    "Calculation of Alphonse's credence over the hare partion (Eq. 3):"
   ]
  },
  {
   "cell_type": "code",
   "execution_count": 40,
   "metadata": {},
   "outputs": [
    {
     "data": {
      "text/plain": [
       "0.4440521098441111"
      ]
     },
     "execution_count": 40,
     "metadata": {},
     "output_type": "execute_result"
    }
   ],
   "source": [
    "mu=10\n",
    "sigma=4\n",
    "alphonse_prob=integrate.quad(func,0,9.5)[0]\n",
    "alphonse_prob"
   ]
  },
  {
   "cell_type": "markdown",
   "metadata": {},
   "source": [
    "Calculation of Belinda's credence over the hare partion (Eq. 5):"
   ]
  },
  {
   "cell_type": "code",
   "execution_count": 41,
   "metadata": {},
   "outputs": [
    {
     "data": {
      "text/plain": [
       "0.08447730506613493"
      ]
     },
     "execution_count": 41,
     "metadata": {},
     "output_type": "execute_result"
    }
   ],
   "source": [
    "mu=15\n",
    "sigma=4\n",
    "belinda_prob=integrate.quad(func,0,9.5)[0]\n",
    "belinda_prob"
   ]
  },
  {
   "cell_type": "markdown",
   "metadata": {},
   "source": [
    "Calculation of true probability distribution over the hare partion (Eq. 8):"
   ]
  },
  {
   "cell_type": "code",
   "execution_count": 42,
   "metadata": {},
   "outputs": [
    {
     "data": {
      "text/plain": [
       "5.33121445247538e-05"
      ]
     },
     "execution_count": 42,
     "metadata": {},
     "output_type": "execute_result"
    }
   ],
   "source": [
    "mu=25\n",
    "sigma=4\n",
    "true_prob=integrate.quad(func,0,9.5)[0]\n",
    "true_prob"
   ]
  },
  {
   "cell_type": "markdown",
   "metadata": {},
   "source": [
    "Calculation of the maximum expected Brier inaccuracy of a mean of Alphone and Belinda's credences, according the the true probability distribution (Table 1):"
   ]
  },
  {
   "cell_type": "code",
   "execution_count": 43,
   "metadata": {},
   "outputs": [
    {
     "data": {
      "text/plain": [
       "0.39437648332203634"
      ]
     },
     "execution_count": 43,
     "metadata": {},
     "output_type": "execute_result"
    }
   ],
   "source": [
    "true_prob*((1-alphonse_prob)**2 + ((0-(1-alphonse_prob))**2)) + \\\n",
    "           + (1-true_prob)*((0-alphonse_prob)**2 + ((1-(1-alphonse_prob))**2))"
   ]
  },
  {
   "cell_type": "markdown",
   "metadata": {},
   "source": [
    "Calculation of the maximum expected logarithmic inaccuracy of a mean of Alphone and Belinda's credences, according the the true probability distribution (Table 1):"
   ]
  },
  {
   "cell_type": "code",
   "execution_count": 44,
   "metadata": {},
   "outputs": [
    {
     "data": {
      "text/plain": [
       "0.5870926928443715"
      ]
     },
     "execution_count": 44,
     "metadata": {},
     "output_type": "execute_result"
    }
   ],
   "source": [
    "-(true_prob*np.log(alphonse_prob) + (1-true_prob)*np.log(1-alphonse_prob))"
   ]
  },
  {
   "cell_type": "markdown",
   "metadata": {},
   "source": [
    "Calculation of the minimum expected Brier inaccuracy of a mean of Alphone and Belinda's credences, according the the true probability distribution (Table 1):"
   ]
  },
  {
   "cell_type": "code",
   "execution_count": 45,
   "metadata": {},
   "outputs": [
    {
     "data": {
      "text/plain": [
       "0.01436143976633617"
      ]
     },
     "execution_count": 45,
     "metadata": {},
     "output_type": "execute_result"
    }
   ],
   "source": [
    "true_prob*((1-belinda_prob)**2 + ((0-(1-belinda_prob))**2)) + \\\n",
    "           + (1-true_prob)*((0-belinda_prob)**2 + ((1-(1-belinda_prob))**2))"
   ]
  },
  {
   "cell_type": "markdown",
   "metadata": {},
   "source": [
    "Calculation of the minimum expected logarithmic inaccuracy of a mean of Alphone and Belinda's credences, according the the true probability distribution (Table 1):"
   ]
  },
  {
   "cell_type": "code",
   "execution_count": 46,
   "metadata": {},
   "outputs": [
    {
     "data": {
      "text/plain": [
       "0.0883871690073207"
      ]
     },
     "execution_count": 46,
     "metadata": {},
     "output_type": "execute_result"
    }
   ],
   "source": [
    "-(true_prob*np.log(belinda_prob) + (1-true_prob)*np.log(1-belinda_prob))"
   ]
  },
  {
   "cell_type": "markdown",
   "metadata": {},
   "source": [
    "Calculation of the expected Brier inaccuracy of the true probability distribution, according to itself (Table 1):"
   ]
  },
  {
   "cell_type": "code",
   "execution_count": 47,
   "metadata": {},
   "outputs": [
    {
     "data": {
      "text/plain": [
       "0.00010661860467999993"
      ]
     },
     "execution_count": 47,
     "metadata": {},
     "output_type": "execute_result"
    }
   ],
   "source": [
    "true_prob*((1-true_prob)**2 + ((0-(1-true_prob))**2)) + \\\n",
    "           + (1-true_prob)*((0-true_prob)**2 + ((1-(1-true_prob))**2))"
   ]
  },
  {
   "cell_type": "markdown",
   "metadata": {},
   "source": [
    "Calculation of the expected logarithmic inaccuracy of the true probability distribution, according to itself (Table 1):"
   ]
  },
  {
   "cell_type": "code",
   "execution_count": 48,
   "metadata": {},
   "outputs": [
    {
     "data": {
      "text/plain": [
       "0.0005778673807396973"
      ]
     },
     "execution_count": 48,
     "metadata": {},
     "output_type": "execute_result"
    }
   ],
   "source": [
    "-(true_prob*np.log(true_prob) + (1-true_prob)*np.log(1-true_prob))"
   ]
  },
  {
   "cell_type": "markdown",
   "metadata": {},
   "source": [
    "Calculation of the weights used to stack Alphonse and Belinda's models (Eq. 17):"
   ]
  },
  {
   "cell_type": "code",
   "execution_count": 49,
   "metadata": {},
   "outputs": [
    {
     "data": {
      "text/plain": [
       "matrix([[0.73913043],\n",
       "        [1.34782609]])"
      ]
     },
     "execution_count": 49,
     "metadata": {},
     "output_type": "execute_result"
    }
   ],
   "source": [
    "data_stream_y = np.array([5,11,17,20]).transpose()\n",
    "alphonse_leave_alpha_out = np.array([3,4,6,7]).transpose()\n",
    "belinda_leave_alpha_out = np.array([4,5,9,11]).transpose()\n",
    "matrix_Q = np.array([[np.dot(alphonse_leave_alpha_out,alphonse_leave_alpha_out),\\\n",
    "                      np.dot(alphonse_leave_alpha_out,belinda_leave_alpha_out)],\\\n",
    "                         [np.dot(belinda_leave_alpha_out,alphonse_leave_alpha_out),\\\n",
    "                            np.dot(belinda_leave_alpha_out,belinda_leave_alpha_out)]])\n",
    "matrix_Q = np.asmatrix(matrix_Q)\n",
    "vector_c = np.array([[np.dot(data_stream_y,alphonse_leave_alpha_out)],\\\n",
    "                     [np.dot(data_stream_y,belinda_leave_alpha_out)]])\n",
    "vector_c = np.asmatrix(vector_c)\n",
    "inverse_matrix_Q=np.linalg.inv(matrix_Q)\n",
    "stacking_weights=inverse_matrix_Q*vector_c\n",
    "stacking_weights"
   ]
  },
  {
   "cell_type": "markdown",
   "metadata": {},
   "source": [
    "Calculation of the stacking-derived credence over the hare partion (Eq. 18):"
   ]
  },
  {
   "cell_type": "code",
   "execution_count": 65,
   "metadata": {},
   "outputs": [
    {
     "data": {
      "text/plain": [
       "2.8462491422549914e-06"
      ]
     },
     "execution_count": 65,
     "metadata": {},
     "output_type": "execute_result"
    }
   ],
   "source": [
    "mu=27.65\n",
    "sigma=4\n",
    "stacking_prob=integrate.quad(func,0,9.5)[0]\n",
    "stacking_prob"
   ]
  },
  {
   "cell_type": "markdown",
   "metadata": {},
   "source": [
    "Calculation of the expected Brier inaccuracy of the stacking-derived credence, according the the true probability distribution (Eq. 20):"
   ]
  },
  {
   "cell_type": "code",
   "execution_count": 67,
   "metadata": {},
   "outputs": [
    {
     "data": {
      "text/plain": [
       "0.00010662369829401113"
      ]
     },
     "execution_count": 67,
     "metadata": {},
     "output_type": "execute_result"
    }
   ],
   "source": [
    "true_prob*((1-stacking_prob)**2 + ((0-(1-stacking_prob))**2)) + \\\n",
    "           + (1-stacking_prob)*((0-stacking_prob)**2 + ((1-(1-stacking_prob))**2))"
   ]
  },
  {
   "cell_type": "markdown",
   "metadata": {},
   "source": [
    "Calculation of the expected logarithmic inaccuracy of the stacking-derived credence, according the the true probability distribution (Eq. 21):"
   ]
  },
  {
   "cell_type": "code",
   "execution_count": 68,
   "metadata": {},
   "outputs": [
    {
     "data": {
      "text/plain": [
       "0.0006836159852307754"
      ]
     },
     "execution_count": 68,
     "metadata": {},
     "output_type": "execute_result"
    }
   ],
   "source": [
    "-(true_prob*np.log(stacking_prob) + (1-true_prob)*np.log(1-stacking_prob))"
   ]
  },
  {
   "cell_type": "markdown",
   "metadata": {},
   "source": [
    "Calculation of the minimum expected Brier inaccuracy of a mean of Alphone and Belinda's credences, by Alphonse's lights (Table 2):"
   ]
  },
  {
   "cell_type": "code",
   "execution_count": 69,
   "metadata": {},
   "outputs": [
    {
     "data": {
      "text/plain": [
       "0.7523277476364485"
      ]
     },
     "execution_count": 69,
     "metadata": {},
     "output_type": "execute_result"
    }
   ],
   "source": [
    "alphonse_prob*((1-belinda_prob)**2 + ((0-(1-belinda_prob))**2)) + \\\n",
    "           + (1-alphonse_prob)*((0-belinda_prob)**2 + ((1-(1-belinda_prob))**2))"
   ]
  },
  {
   "cell_type": "markdown",
   "metadata": {},
   "source": [
    "Calculation of the expected Brier inaccuracy of the stacking-derived credence function, by Alphonse's lights (Table 2):"
   ]
  },
  {
   "cell_type": "code",
   "execution_count": 70,
   "metadata": {},
   "outputs": [
    {
     "data": {
      "text/plain": [
       "0.8880991641726774"
      ]
     },
     "execution_count": 70,
     "metadata": {},
     "output_type": "execute_result"
    }
   ],
   "source": [
    "alphonse_prob*((1-stacking_prob)**2 + ((0-(1-stacking_prob))**2)) + \\\n",
    "           + (1-alphonse_prob)*((0-stacking_prob)**2 + ((1-(1-stacking_prob))**2))"
   ]
  },
  {
   "cell_type": "markdown",
   "metadata": {},
   "source": [
    "Calculation of the minimum expected Brier inaccuracy of a mean of Alphone and Belinda's credences, by Belinda's lights (Table 2):"
   ]
  },
  {
   "cell_type": "code",
   "execution_count": 71,
   "metadata": {},
   "outputs": [
    {
     "data": {
      "text/plain": [
       "0.1546817799897962"
      ]
     },
     "execution_count": 71,
     "metadata": {},
     "output_type": "execute_result"
    }
   ],
   "source": [
    "belinda_prob*((1-belinda_prob)**2 + ((0-(1-belinda_prob))**2)) + \\\n",
    "           + (1-belinda_prob)*((0-belinda_prob)**2 + ((1-(1-belinda_prob))**2))"
   ]
  },
  {
   "cell_type": "markdown",
   "metadata": {},
   "source": [
    "Calculation of the expected Brier inaccuracy of the stacking-derived credence function, by Belinda's lights (Table 2):"
   ]
  },
  {
   "cell_type": "code",
   "execution_count": 72,
   "metadata": {},
   "outputs": [
    {
     "data": {
      "text/plain": [
       "0.1689536483746438"
      ]
     },
     "execution_count": 72,
     "metadata": {},
     "output_type": "execute_result"
    }
   ],
   "source": [
    "belinda_prob*((1-stacking_prob)**2 + ((0-(1-stacking_prob))**2)) + \\\n",
    "           + (1-belinda_prob)*((0-stacking_prob)**2 + ((1-(1-stacking_prob))**2))"
   ]
  },
  {
   "cell_type": "markdown",
   "metadata": {},
   "source": [
    "Calculation of the minimum expected logarithmic inaccuracy of a mean of Alphone and Belinda's credences, by Alphonse's lights (Table 2):"
   ]
  },
  {
   "cell_type": "code",
   "execution_count": 73,
   "metadata": {},
   "outputs": [
    {
     "data": {
      "text/plain": [
       "1.1464417359297787"
      ]
     },
     "execution_count": 73,
     "metadata": {},
     "output_type": "execute_result"
    }
   ],
   "source": [
    "-(alphonse_prob*np.log(belinda_prob) + (1-alphonse_prob)*np.log(1-belinda_prob))"
   ]
  },
  {
   "cell_type": "markdown",
   "metadata": {},
   "source": [
    "Calculation of the expected logarithmic inaccuracy of the stacking-derived credence function, by Alphonse's lights (Table 2):"
   ]
  },
  {
   "cell_type": "code",
   "execution_count": 74,
   "metadata": {},
   "outputs": [
    {
     "data": {
      "text/plain": [
       "5.670328782758977"
      ]
     },
     "execution_count": 74,
     "metadata": {},
     "output_type": "execute_result"
    }
   ],
   "source": [
    "-(alphonse_prob*np.log(stacking_prob) + (1-alphonse_prob)*np.log(1-stacking_prob))"
   ]
  },
  {
   "cell_type": "markdown",
   "metadata": {},
   "source": [
    "Calculation of the minimum expected logarithmic inaccuracy of a mean of Alphone and Belinda's credences, by Belinda's lights (Table 2):"
   ]
  },
  {
   "cell_type": "code",
   "execution_count": 75,
   "metadata": {},
   "outputs": [
    {
     "data": {
      "text/plain": [
       "0.289570577006045"
      ]
     },
     "execution_count": 75,
     "metadata": {},
     "output_type": "execute_result"
    }
   ],
   "source": [
    "-(belinda_prob*np.log(belinda_prob) + (1-belinda_prob)*np.log(1-belinda_prob))"
   ]
  },
  {
   "cell_type": "markdown",
   "metadata": {},
   "source": [
    "Calculation of the expected logarithmic inaccuracy of the stacking-derived credence function, by Belinda's lights (Table 2):"
   ]
  },
  {
   "cell_type": "code",
   "execution_count": 76,
   "metadata": {},
   "outputs": [
    {
     "data": {
      "text/plain": [
       "1.0787362726764542"
      ]
     },
     "execution_count": 76,
     "metadata": {},
     "output_type": "execute_result"
    }
   ],
   "source": [
    "-(belinda_prob*np.log(stacking_prob) + (1-belinda_prob)*np.log(1-stacking_prob))"
   ]
  },
  {
   "cell_type": "markdown",
   "metadata": {},
   "source": [
    "Calculation of stacking weights in the example where Alphonse and Belinda have less severely inaccurate models of the data-generating process (Sec. 6):"
   ]
  },
  {
   "cell_type": "code",
   "execution_count": 61,
   "metadata": {},
   "outputs": [
    {
     "data": {
      "text/plain": [
       "matrix([[0.81847134],\n",
       "        [0.08917197]])"
      ]
     },
     "execution_count": 61,
     "metadata": {},
     "output_type": "execute_result"
    }
   ],
   "source": [
    "alphonse_leave_alpha_out = np.array([6,12,17,23]).transpose()\n",
    "belinda_leave_alpha_out = np.array([7,13,18,24]).transpose()\n",
    "matrix_Q = np.array([[np.dot(alphonse_leave_alpha_out,alphonse_leave_alpha_out),\\\n",
    "                      np.dot(alphonse_leave_alpha_out,belinda_leave_alpha_out)],\\\n",
    "                         [np.dot(belinda_leave_alpha_out,alphonse_leave_alpha_out),\\\n",
    "                            np.dot(belinda_leave_alpha_out,belinda_leave_alpha_out)]])\n",
    "matrix_Q = np.asmatrix(matrix_Q)\n",
    "vector_c = np.array([[np.dot(data_stream_y,alphonse_leave_alpha_out)],\\\n",
    "                     [np.dot(data_stream_y,belinda_leave_alpha_out)]])\n",
    "vector_c = np.asmatrix(vector_c)\n",
    "inverse_matrix_Q=np.linalg.inv(matrix_Q)\n",
    "stacking_weights=inverse_matrix_Q*vector_c\n",
    "stacking_weights"
   ]
  },
  {
   "cell_type": "code",
   "execution_count": null,
   "metadata": {},
   "outputs": [],
   "source": []
  }
 ],
 "metadata": {
  "kernelspec": {
   "display_name": "Python 3",
   "language": "python",
   "name": "python3"
  },
  "language_info": {
   "codemirror_mode": {
    "name": "ipython",
    "version": 3
   },
   "file_extension": ".py",
   "mimetype": "text/x-python",
   "name": "python",
   "nbconvert_exporter": "python",
   "pygments_lexer": "ipython3",
   "version": "3.7.4"
  }
 },
 "nbformat": 4,
 "nbformat_minor": 4
}
